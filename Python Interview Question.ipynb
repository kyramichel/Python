{
 "cells": [
  {
   "cell_type": "markdown",
   "id": "fa45bebf",
   "metadata": {},
   "source": [
    "# Python coding interview question with Solutions\n",
    "\n",
    "\n",
    "\n",
    "Challenge: Implement a method that extract distinct words from a string.\n",
    "\n",
    "For example, the function input is a string \"every person had a star and every star had a also a friend\" and returns \"every person  had  a star friend\"\n",
    "\n",
    "\n",
    "Solution 1 : We want a hash map to keep track of words in a string. The appropriate data structure is a dictionary, where the words are keys. \n",
    "\n",
    "Manipulating  strings (texts) at the level of individual words implies that we first divided the string into individual\n",
    "words. So, the first task is to extract the words from a string:"
   ]
  },
  {
   "cell_type": "markdown",
   "id": "05a45b0b",
   "metadata": {},
   "source": [
    "## Solution 1"
   ]
  },
  {
   "cell_type": "markdown",
   "id": "fe269eff",
   "metadata": {},
   "source": [
    "We can split a string on whitespace using the Python built-in string split() method: "
   ]
  },
  {
   "cell_type": "code",
   "execution_count": 2,
   "id": "435eb7bf",
   "metadata": {},
   "outputs": [
    {
     "data": {
      "text/plain": [
       "['Every',\n",
       " 'person',\n",
       " 'had',\n",
       " 'a',\n",
       " 'star',\n",
       " 'and',\n",
       " 'each',\n",
       " 'star',\n",
       " 'had',\n",
       " 'a',\n",
       " 'also',\n",
       " 'a',\n",
       " 'star']"
      ]
     },
     "execution_count": 2,
     "metadata": {},
     "output_type": "execute_result"
    }
   ],
   "source": [
    "s = \"Every person had a star, and each star had a also a star\"\n",
    "l = s.split( )\n",
    "l"
   ]
  },
  {
   "cell_type": "markdown",
   "id": "4b6b05e6",
   "metadata": {},
   "source": [
    "Strings can contain sentences and any number of spaces, tabs, or newlines -  better way is to use regex split() method:"
   ]
  },
  {
   "cell_type": "code",
   "execution_count": 7,
   "id": "67ea2168",
   "metadata": {},
   "outputs": [
    {
     "data": {
      "text/plain": [
       "['Every person had a star and each star had a also a star']"
      ]
     },
     "execution_count": 7,
     "metadata": {},
     "output_type": "execute_result"
    }
   ],
   "source": [
    "import re\n",
    "\n",
    "# Match any number of tabs, newlines or spaces:\n",
    "\n",
    "l = re.split(r'[\\t\\n]+ ', s)\n",
    "l"
   ]
  },
  {
   "cell_type": "code",
   "execution_count": 9,
   "id": "b488400e",
   "metadata": {},
   "outputs": [
    {
     "data": {
      "text/plain": [
       "['Every',\n",
       " 'person',\n",
       " 'had',\n",
       " 'a',\n",
       " 'star',\n",
       " 'and',\n",
       " 'each',\n",
       " 'star',\n",
       " 'had',\n",
       " 'a',\n",
       " 'also',\n",
       " 'a',\n",
       " 'star']"
      ]
     },
     "execution_count": 9,
     "metadata": {},
     "output_type": "execute_result"
    }
   ],
   "source": [
    "# Alternatively, march any number of whitespace characters:\n",
    "l =re.split(r'\\s+', s)\n",
    "l"
   ]
  },
  {
   "cell_type": "markdown",
   "id": "071f77de",
   "metadata": {},
   "source": [
    "Since strings can contain sentences, and any number of whitespaces as well a punctuation marks, an even better choice \n",
    "is using regex split() method matching all non-word characters:"
   ]
  },
  {
   "cell_type": "code",
   "execution_count": 24,
   "id": "de2743f2",
   "metadata": {},
   "outputs": [
    {
     "data": {
      "text/plain": [
       "['Every',\n",
       " 'person',\n",
       " 'had',\n",
       " 'a',\n",
       " 'star',\n",
       " 'and',\n",
       " 'each',\n",
       " 'star',\n",
       " 'had',\n",
       " 'a',\n",
       " 'also',\n",
       " 'a',\n",
       " 'star']"
      ]
     },
     "execution_count": 24,
     "metadata": {},
     "output_type": "execute_result"
    }
   ],
   "source": [
    "l = re.split(r'\\W+',s)\n",
    "l"
   ]
  },
  {
   "cell_type": "markdown",
   "id": "0e6def62",
   "metadata": {},
   "source": [
    "### REMARK\n",
    "\n",
    "The task of extracting words from a text (string) aka tokenization turns out to be a far more complex \n",
    "than this example shows. In fact, there is no single solution to tokenization that works well in all real-world situations"
   ]
  },
  {
   "cell_type": "markdown",
   "id": "d8a7c5ef",
   "metadata": {},
   "source": [
    "The function: take a string s and returns the keys of dictionary that contains the distinct words extracted from the string s"
   ]
  },
  {
   "cell_type": "code",
   "execution_count": 32,
   "id": "05a06c8b",
   "metadata": {},
   "outputs": [],
   "source": [
    "#Solution 1:\n",
    "d ={}\n",
    "\n",
    "def f1(s):\n",
    "    l = re.split(r'\\W+',s)\n",
    "    if l == []:\n",
    "        return 0\n",
    "    for w in l:\n",
    "        d[w] = w\n",
    "    return list(d.keys())\n"
   ]
  },
  {
   "cell_type": "code",
   "execution_count": 33,
   "id": "20c7bec6",
   "metadata": {},
   "outputs": [
    {
     "data": {
      "text/plain": [
       "['Every', 'person', 'had', 'a', 'star', 'and', 'each', 'also']"
      ]
     },
     "execution_count": 33,
     "metadata": {},
     "output_type": "execute_result"
    }
   ],
   "source": [
    "f1(s)"
   ]
  },
  {
   "cell_type": "markdown",
   "id": "c2b96f5d",
   "metadata": {},
   "source": [
    "## Solution 2\n",
    "\n",
    "The question here is in fact about finding the vocabulary of a text(string), the set of words that used in the text.\n",
    "\n",
    "The easiest way to get the vocabulary items is using Python set() method that dedupes the list of words:"
   ]
  },
  {
   "cell_type": "code",
   "execution_count": 30,
   "id": "a4521425",
   "metadata": {},
   "outputs": [
    {
     "data": {
      "text/plain": [
       "{'Every', 'a', 'also', 'and', 'each', 'had', 'person', 'star'}"
      ]
     },
     "execution_count": 30,
     "metadata": {},
     "output_type": "execute_result"
    }
   ],
   "source": [
    "set(l)"
   ]
  },
  {
   "cell_type": "code",
   "execution_count": 34,
   "id": "9717846a",
   "metadata": {},
   "outputs": [],
   "source": [
    "#Solution 2\n",
    "\n",
    "def f2(s):\n",
    "    l = re.split(r'\\W+',s)\n",
    "    return (list(set(l)))        "
   ]
  },
  {
   "cell_type": "code",
   "execution_count": 35,
   "id": "02f1889f",
   "metadata": {},
   "outputs": [
    {
     "data": {
      "text/plain": [
       "['Every', 'a', 'star', 'also', 'and', 'person', 'had', 'each']"
      ]
     },
     "execution_count": 35,
     "metadata": {},
     "output_type": "execute_result"
    }
   ],
   "source": [
    "f2(s)"
   ]
  },
  {
   "cell_type": "markdown",
   "id": "ded87c15",
   "metadata": {},
   "source": [
    "Note: The output of f() is a list of distinct items. \n",
    "\n",
    "In practice, we often go need to go one step further and do some fine-grained selection of words. In Python we can use list comprehentsion as:"
   ]
  },
  {
   "cell_type": "code",
   "execution_count": 38,
   "id": "d04dda19",
   "metadata": {},
   "outputs": [
    {
     "name": "stdout",
     "output_type": "stream",
     "text": [
      "['a']\n"
     ]
    }
   ],
   "source": [
    "V = set(l)\n",
    "\n",
    "small_voc = [w for w in V if len(w) < 3]\n",
    "\n",
    "print(sorted(small_voc))"
   ]
  },
  {
   "cell_type": "markdown",
   "id": "329ecbd9",
   "metadata": {},
   "source": [
    "## Peformance\n",
    "\n",
    "To get an idea of some candidate solutions:"
   ]
  },
  {
   "cell_type": "code",
   "execution_count": 66,
   "id": "95741d8c",
   "metadata": {},
   "outputs": [
    {
     "name": "stdout",
     "output_type": "stream",
     "text": [
      "33.3 µs ± 6.94 µs per loop (mean ± std. dev. of 7 runs, 10000 loops each)\n"
     ]
    }
   ],
   "source": [
    "import timeit\n",
    "\n",
    "\n",
    "%timeit f1(s)\n"
   ]
  },
  {
   "cell_type": "code",
   "execution_count": 67,
   "id": "3b7e07e4",
   "metadata": {},
   "outputs": [
    {
     "name": "stdout",
     "output_type": "stream",
     "text": [
      "21.8 µs ± 617 ns per loop (mean ± std. dev. of 7 runs, 10000 loops each)\n"
     ]
    }
   ],
   "source": [
    "\n",
    "%timeit f2(s)"
   ]
  },
  {
   "cell_type": "markdown",
   "id": "d8ae79f8",
   "metadata": {},
   "source": [
    "### Machine Learning approach\n",
    "\n",
    "Solution: First tokenize the string using nltk word_tokenizer() method then compute the frequency distribution that will tells us the frequency of each vocabulary item in the text."
   ]
  },
  {
   "cell_type": "code",
   "execution_count": 39,
   "id": "fc02479a",
   "metadata": {},
   "outputs": [
    {
     "name": "stderr",
     "output_type": "stream",
     "text": [
      "[nltk_data] Downloading package punkt to\n",
      "[nltk_data]     C:\\Users\\K\\AppData\\Roaming\\nltk_data...\n",
      "[nltk_data]   Package punkt is already up-to-date!\n"
     ]
    }
   ],
   "source": [
    "import nltk\n",
    "nltk.download('punkt')\n",
    "from nltk.tokenize import word_tokenize"
   ]
  },
  {
   "cell_type": "code",
   "execution_count": 40,
   "id": "d35ebcbb",
   "metadata": {},
   "outputs": [
    {
     "data": {
      "text/plain": [
       "['Every',\n",
       " 'person',\n",
       " 'had',\n",
       " 'a',\n",
       " 'star',\n",
       " 'and',\n",
       " 'each',\n",
       " 'star',\n",
       " 'had',\n",
       " 'a',\n",
       " 'also',\n",
       " 'a',\n",
       " 'star']"
      ]
     },
     "execution_count": 40,
     "metadata": {},
     "output_type": "execute_result"
    }
   ],
   "source": [
    "l = word_tokenize(s)\n",
    "l"
   ]
  },
  {
   "cell_type": "code",
   "execution_count": 45,
   "id": "4e5fd0ec",
   "metadata": {},
   "outputs": [
    {
     "data": {
      "text/plain": [
       "FreqDist({'a': 3, 'star': 3, 'had': 2, 'Every': 1, 'person': 1, 'and': 1, 'each': 1, 'also': 1})"
      ]
     },
     "execution_count": 45,
     "metadata": {},
     "output_type": "execute_result"
    }
   ],
   "source": [
    "nltk.FreqDist(l)"
   ]
  },
  {
   "cell_type": "code",
   "execution_count": 56,
   "id": "e23cb01e",
   "metadata": {},
   "outputs": [
    {
     "data": {
      "text/plain": [
       "['Every', 'person', 'and', 'each', 'also']"
      ]
     },
     "execution_count": 56,
     "metadata": {},
     "output_type": "execute_result"
    }
   ],
   "source": [
    "[w for w in l if nltk.FreqDist(l)[w] < 2]"
   ]
  },
  {
   "cell_type": "code",
   "execution_count": 63,
   "id": "1a3787ec",
   "metadata": {},
   "outputs": [],
   "source": [
    "#Solution 3:\n",
    "\n",
    "def f3(s):\n",
    "    l = word_tokenize(s)\n",
    "    return [w for w in l if nltk.FreqDist(l)[w] < 2]\n"
   ]
  },
  {
   "cell_type": "code",
   "execution_count": 64,
   "id": "6d6f3531",
   "metadata": {},
   "outputs": [
    {
     "data": {
      "text/plain": [
       "['Every', 'person', 'and', 'each', 'also']"
      ]
     },
     "execution_count": 64,
     "metadata": {},
     "output_type": "execute_result"
    }
   ],
   "source": [
    "f3(s)"
   ]
  },
  {
   "cell_type": "code",
   "execution_count": 68,
   "id": "34f6e057",
   "metadata": {},
   "outputs": [
    {
     "name": "stdout",
     "output_type": "stream",
     "text": [
      "1.21 ms ± 146 µs per loop (mean ± std. dev. of 7 runs, 1000 loops each)\n"
     ]
    }
   ],
   "source": [
    "\n",
    "%timeit f3(s)\n"
   ]
  },
  {
   "cell_type": "markdown",
   "id": "ad090a50",
   "metadata": {},
   "source": [
    "# REMARKS\n",
    "\n",
    "\n",
    "\n",
    "PS: I suggested the following ML solution during a tech interview, but it was not accepted \n",
    "\n",
    "I disagree with this philosophy, as I believe that, in general, by using \"off-the-shelf\" high-performant Machine Learning algorithms can turn any programmer into a better one. Specifically, using powerful NLP methods for processing raw text stored as strings can help us manipulate, analyse and interpret strings more efficiently, even text as large as the size of an entire book (more than 1 million characters).\n"
   ]
  }
 ],
 "metadata": {
  "kernelspec": {
   "display_name": "Python 3",
   "language": "python",
   "name": "python3"
  },
  "language_info": {
   "codemirror_mode": {
    "name": "ipython",
    "version": 3
   },
   "file_extension": ".py",
   "mimetype": "text/x-python",
   "name": "python",
   "nbconvert_exporter": "python",
   "pygments_lexer": "ipython3",
   "version": "3.9.1"
  }
 },
 "nbformat": 4,
 "nbformat_minor": 5
}
