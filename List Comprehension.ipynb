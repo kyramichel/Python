{
 "cells": [
  {
   "cell_type": "markdown",
   "id": "9a599a6f",
   "metadata": {},
   "source": [
    "# List Comprehension\n",
    "\n"
   ]
  },
  {
   "cell_type": "markdown",
   "id": "807d525a",
   "metadata": {},
   "source": [
    "List are flexible and powerful data structures!\n",
    "\n",
    "Below quick tips on List Comprehension, Enumerate, Range, Slicing.."
   ]
  },
  {
   "cell_type": "code",
   "execution_count": 1,
   "id": "f355ea3b",
   "metadata": {},
   "outputs": [
    {
     "data": {
      "text/plain": [
       "[0, 1, 4]"
      ]
     },
     "execution_count": 1,
     "metadata": {},
     "output_type": "execute_result"
    }
   ],
   "source": [
    "#using list comprehension to generate the obj of a list \n",
    "\n",
    "l1 = [l**2 for l in range(3)]\n",
    "l1"
   ]
  },
  {
   "cell_type": "code",
   "execution_count": 2,
   "id": "00625653",
   "metadata": {},
   "outputs": [
    {
     "data": {
      "text/plain": [
       "[0, 1, 4]"
      ]
     },
     "execution_count": 2,
     "metadata": {},
     "output_type": "execute_result"
    }
   ],
   "source": [
    "#vs. using for loop\n",
    "\n",
    "l2 = []\n",
    "for l in range(3):\n",
    "    l2.append(l**2)\n",
    "l2   "
   ]
  },
  {
   "cell_type": "code",
   "execution_count": 3,
   "id": "d8406aca",
   "metadata": {},
   "outputs": [
    {
     "name": "stdout",
     "output_type": "stream",
     "text": [
      "1\n",
      "25\n",
      "16\n"
     ]
    }
   ],
   "source": [
    "# Using for loop:\n",
    "L = [1, 5, 4]\n",
    "\n",
    "for i in range(3):\n",
    "    print(L[i]**2)"
   ]
  },
  {
   "cell_type": "code",
   "execution_count": 4,
   "id": "383a0a7e",
   "metadata": {},
   "outputs": [
    {
     "data": {
      "text/plain": [
       "[1, 25, 16]"
      ]
     },
     "execution_count": 4,
     "metadata": {},
     "output_type": "execute_result"
    }
   ],
   "source": [
    "#vs Using list comprehension\n",
    "[l**2 for l in L]"
   ]
  },
  {
   "cell_type": "code",
   "execution_count": 5,
   "id": "78956797",
   "metadata": {},
   "outputs": [],
   "source": [
    "L= [3, 5, 1, -2]"
   ]
  },
  {
   "cell_type": "code",
   "execution_count": 6,
   "id": "19b05eb9",
   "metadata": {},
   "outputs": [],
   "source": [
    "#using list comprehension\n",
    "\n",
    "cubes = [x**3 for x in L]"
   ]
  },
  {
   "cell_type": "code",
   "execution_count": 7,
   "id": "32eeda39",
   "metadata": {},
   "outputs": [
    {
     "data": {
      "text/plain": [
       "[27, 125, 1, -8]"
      ]
     },
     "execution_count": 7,
     "metadata": {},
     "output_type": "execute_result"
    }
   ],
   "source": [
    "cubes"
   ]
  },
  {
   "cell_type": "markdown",
   "id": "cfc7257e",
   "metadata": {},
   "source": [
    "using enumerate:"
   ]
  },
  {
   "cell_type": "code",
   "execution_count": 8,
   "id": "7fd7a6c5",
   "metadata": {},
   "outputs": [
    {
     "name": "stdout",
     "output_type": "stream",
     "text": [
      "0 9\n",
      "1 25\n",
      "2 1\n",
      "3 4\n"
     ]
    }
   ],
   "source": [
    "for i, l in enumerate(L):\n",
    "    print(i,l**2)"
   ]
  },
  {
   "cell_type": "code",
   "execution_count": 9,
   "id": "9c7e13c0",
   "metadata": {},
   "outputs": [
    {
     "data": {
      "text/plain": [
       "[0, 1, 2, 3, 4, 5, 6]"
      ]
     },
     "execution_count": 9,
     "metadata": {},
     "output_type": "execute_result"
    }
   ],
   "source": [
    "m = list(range(7))\n",
    "m"
   ]
  },
  {
   "cell_type": "code",
   "execution_count": 10,
   "id": "bd8dc8e7",
   "metadata": {},
   "outputs": [
    {
     "name": "stdout",
     "output_type": "stream",
     "text": [
      "2\n",
      "3\n",
      "4\n"
     ]
    }
   ],
   "source": [
    "#using for loop\n",
    "\n",
    "for l in m[2:5]:\n",
    "    print(l)"
   ]
  },
  {
   "cell_type": "code",
   "execution_count": 11,
   "id": "f5b863fe",
   "metadata": {},
   "outputs": [
    {
     "data": {
      "text/plain": [
       "[2, 3, 4]"
      ]
     },
     "execution_count": 11,
     "metadata": {},
     "output_type": "execute_result"
    }
   ],
   "source": [
    "#using list comprehension\n",
    "[l for l in m[2:5]]"
   ]
  },
  {
   "cell_type": "markdown",
   "id": "96db6c85",
   "metadata": {},
   "source": [
    "range"
   ]
  },
  {
   "cell_type": "code",
   "execution_count": 12,
   "id": "b4e08578",
   "metadata": {},
   "outputs": [
    {
     "name": "stdout",
     "output_type": "stream",
     "text": [
      "1\n",
      "3\n",
      "5\n",
      "7\n",
      "9\n"
     ]
    }
   ],
   "source": [
    "for i in range(1,10,2):\n",
    "    print(i)"
   ]
  },
  {
   "cell_type": "code",
   "execution_count": 22,
   "id": "c191c9e8",
   "metadata": {},
   "outputs": [
    {
     "name": "stdout",
     "output_type": "stream",
     "text": [
      "0\n",
      "1\n",
      "2\n"
     ]
    }
   ],
   "source": [
    "#using for loop\n",
    "for i in range(3):\n",
    "    print(i)"
   ]
  },
  {
   "cell_type": "code",
   "execution_count": 21,
   "id": "8de64ff6",
   "metadata": {},
   "outputs": [
    {
     "data": {
      "text/plain": [
       "[1, 3, 5, 7, 9]"
      ]
     },
     "execution_count": 21,
     "metadata": {},
     "output_type": "execute_result"
    }
   ],
   "source": [
    "#using list comprehension\n",
    "\n",
    "L = [l for l in range(1,10,2)]\n",
    "L"
   ]
  },
  {
   "cell_type": "markdown",
   "id": "ecbf66ca",
   "metadata": {},
   "source": [
    "slicing"
   ]
  },
  {
   "cell_type": "code",
   "execution_count": 23,
   "id": "c73f6fdc",
   "metadata": {},
   "outputs": [
    {
     "data": {
      "text/plain": [
       "[1, 3]"
      ]
     },
     "execution_count": 23,
     "metadata": {},
     "output_type": "execute_result"
    }
   ],
   "source": [
    "#get everything before the last 3rd element\n",
    "L[:-3]"
   ]
  },
  {
   "cell_type": "code",
   "execution_count": 24,
   "id": "b72021d7",
   "metadata": {},
   "outputs": [
    {
     "data": {
      "text/plain": [
       "[5, 7]"
      ]
     },
     "execution_count": 24,
     "metadata": {},
     "output_type": "execute_result"
    }
   ],
   "source": [
    "# get up to last element (but last element not included)\n",
    "L[-3:-1]"
   ]
  },
  {
   "cell_type": "code",
   "execution_count": 25,
   "id": "016bd192",
   "metadata": {},
   "outputs": [
    {
     "data": {
      "text/plain": [
       "[5, 7, 9]"
      ]
     },
     "execution_count": 25,
     "metadata": {},
     "output_type": "execute_result"
    }
   ],
   "source": [
    "# slice the list from last 3rd -->\n",
    "L[-3:]"
   ]
  }
 ],
 "metadata": {
  "kernelspec": {
   "display_name": "Python 3 (ipykernel)",
   "language": "python",
   "name": "python3"
  },
  "language_info": {
   "codemirror_mode": {
    "name": "ipython",
    "version": 3
   },
   "file_extension": ".py",
   "mimetype": "text/x-python",
   "name": "python",
   "nbconvert_exporter": "python",
   "pygments_lexer": "ipython3",
   "version": "3.9.12"
  }
 },
 "nbformat": 4,
 "nbformat_minor": 5
}
