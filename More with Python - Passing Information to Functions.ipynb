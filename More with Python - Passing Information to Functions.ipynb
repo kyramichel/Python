{
 "cells": [
  {
   "cell_type": "markdown",
   "metadata": {},
   "source": [
    "# Guidelines on Passing Information to Functions\n",
    "\n",
    "\n",
    "Information is passed to functions using a function's parameters:"
   ]
  },
  {
   "cell_type": "markdown",
   "metadata": {},
   "source": [
    "## Functions with Parameters \n",
    "\n",
    "A function with parameters expect to assign a value to the parameters each time it is called. \n",
    "\n",
    "### Examples: \n",
    "\n",
    "When we call f() we must pass it a name for x, such as x ='Kyra'. \n",
    "\n",
    "This is the same as entering f1('Kyra') which calls f1 and gives the function the information it needs to execute the print statement:"
   ]
  },
  {
   "cell_type": "code",
   "execution_count": 108,
   "metadata": {},
   "outputs": [],
   "source": [
    "def f1(x1):\n",
    "    print(\"Hello\", x1)    "
   ]
  },
  {
   "cell_type": "code",
   "execution_count": 109,
   "metadata": {},
   "outputs": [
    {
     "name": "stdout",
     "output_type": "stream",
     "text": [
      "Hello Kyra\n"
     ]
    }
   ],
   "source": [
    "x1= \"Kyra\"\n",
    "\n",
    "f1(x1)"
   ]
  },
  {
   "cell_type": "markdown",
   "metadata": {},
   "source": [
    "###  Parameter Types\n",
    "\n",
    "In Python we never specify the parameter's type.\n",
    "\n",
    "Here function f1 accepts any value of x1 we specify. For example, we can pass it a list:"
   ]
  },
  {
   "cell_type": "code",
   "execution_count": 52,
   "metadata": {},
   "outputs": [
    {
     "name": "stdout",
     "output_type": "stream",
     "text": [
      "Hello,  ['Flavia', 'Michelle', 'Kyra']\n"
     ]
    }
   ],
   "source": [
    "x1= [\"Flavia\", \"Michelle\",\"Kyra\"]\n",
    "\n",
    "f1(x1)"
   ]
  },
  {
   "cell_type": "markdown",
   "metadata": {},
   "source": [
    "What we might want here is to print a greeting statement for all names in a list:"
   ]
  },
  {
   "cell_type": "code",
   "execution_count": 54,
   "metadata": {},
   "outputs": [],
   "source": [
    "def f2(x2):\n",
    "    for name in x2:\n",
    "        print(\"Hello, \"+ name)"
   ]
  },
  {
   "cell_type": "code",
   "execution_count": 55,
   "metadata": {},
   "outputs": [
    {
     "name": "stdout",
     "output_type": "stream",
     "text": [
      "Hello, Flavia\n",
      "Hello, Michelle\n",
      "Hello, Kyra\n"
     ]
    }
   ],
   "source": [
    "x2 = [\"Flavia\", \"Michelle\",\"Kyra\"]\n",
    "\n",
    "f2(x2)"
   ]
  },
  {
   "cell_type": "markdown",
   "metadata": {},
   "source": [
    "The for loop inside f2 expects x2 to be an iterator (that contains a countable number of values), thus it works for strings too"
   ]
  },
  {
   "cell_type": "code",
   "execution_count": 59,
   "metadata": {},
   "outputs": [
    {
     "name": "stdout",
     "output_type": "stream",
     "text": [
      "Hello, N\n",
      "Hello, A\n",
      "Hello, M\n",
      "Hello, E\n"
     ]
    }
   ],
   "source": [
    "x2 = \"NAME\"\n",
    "\n",
    "f2(x2)"
   ]
  },
  {
   "cell_type": "markdown",
   "metadata": {},
   "source": [
    "# Parameter passing \n",
    "\n",
    "\n",
    "A parameter is a variable that a value is assigned to when the function is called.\n",
    "\n",
    "\n",
    "In Python, parameters passing is **call-by-value**, but the way assignment operator works on different type parameter matter\n",
    "\n",
    "## Let's look at some cases:"
   ]
  },
  {
   "cell_type": "markdown",
   "metadata": {},
   "source": [
    "Here is a simple function that changes the value of parameter:"
   ]
  },
  {
   "cell_type": "code",
   "execution_count": 72,
   "metadata": {},
   "outputs": [],
   "source": [
    "def f3(x3):\n",
    "    x3 = \"Flavia\"\n",
    "    print(x3)"
   ]
  },
  {
   "cell_type": "code",
   "execution_count": 73,
   "metadata": {},
   "outputs": [
    {
     "name": "stdout",
     "output_type": "stream",
     "text": [
      "Flavia\n"
     ]
    }
   ],
   "source": [
    "a = \"Michelle\"\n",
    "\n",
    "f3(a)"
   ]
  },
  {
   "cell_type": "code",
   "execution_count": 66,
   "metadata": {},
   "outputs": [
    {
     "data": {
      "text/plain": [
       "'Michelle'"
      ]
     },
     "execution_count": 66,
     "metadata": {},
     "output_type": "execute_result"
    }
   ],
   "source": [
    "a"
   ]
  },
  {
   "cell_type": "markdown",
   "metadata": {},
   "source": [
    "## Explanation: \n",
    "\n",
    "When we call f3(a), the value of a is passed to x3. (Pass by Value)\n",
    "\n",
    "The function f3 overwrites x3 with \"Flavia\", so it returns \"Flavia\". But, the value of **a** is not changed. \n",
    "\n",
    "This is similar to writing: x3 = a and the value of a ('Michelle') is assigned to x3:\n"
   ]
  },
  {
   "cell_type": "markdown",
   "metadata": {},
   "source": [
    "# Assignment = copy the value of an expression\n",
    "\n",
    "Here: assignment **x3 = a** means **x3 is a copy of a** i.e., copy the value of **a**:"
   ]
  },
  {
   "cell_type": "code",
   "execution_count": 75,
   "metadata": {},
   "outputs": [],
   "source": [
    "a = 'Michelle'\n",
    "x3= a"
   ]
  },
  {
   "cell_type": "code",
   "execution_count": 77,
   "metadata": {},
   "outputs": [
    {
     "data": {
      "text/plain": [
       "'Flavia'"
      ]
     },
     "execution_count": 77,
     "metadata": {},
     "output_type": "execute_result"
    }
   ],
   "source": [
    "x3 = 'Flavia'\n",
    "x3"
   ]
  },
  {
   "cell_type": "code",
   "execution_count": 78,
   "metadata": {},
   "outputs": [
    {
     "data": {
      "text/plain": [
       "'Michelle'"
      ]
     },
     "execution_count": 78,
     "metadata": {},
     "output_type": "execute_result"
    }
   ],
   "source": [
    "a"
   ]
  },
  {
   "cell_type": "markdown",
   "metadata": {},
   "source": [
    "Another function that changes the value of parameter x4:\n"
   ]
  },
  {
   "cell_type": "code",
   "execution_count": 90,
   "metadata": {},
   "outputs": [],
   "source": [
    "def f4(x4):\n",
    "    x4[1] =\"Kyra\"\n",
    "    print(x4)"
   ]
  },
  {
   "cell_type": "markdown",
   "metadata": {},
   "source": [
    "Here f4 changes the value of x4 inside and it also changes the value of b:"
   ]
  },
  {
   "cell_type": "code",
   "execution_count": 93,
   "metadata": {},
   "outputs": [
    {
     "name": "stdout",
     "output_type": "stream",
     "text": [
      "['Flavia', 'Kyra']\n"
     ]
    }
   ],
   "source": [
    "b = [\"Flavia\", \"Michelle\"]\n",
    "\n",
    "f4(b)"
   ]
  },
  {
   "cell_type": "code",
   "execution_count": 94,
   "metadata": {},
   "outputs": [
    {
     "data": {
      "text/plain": [
       "['Flavia', 'Kyra']"
      ]
     },
     "execution_count": 94,
     "metadata": {},
     "output_type": "execute_result"
    }
   ],
   "source": [
    "b"
   ]
  },
  {
   "cell_type": "markdown",
   "metadata": {},
   "source": [
    "## Explanation\n",
    "\n",
    "The assignment f4(b) copies the value of b. But the \"value\" of a list (a structured object) is just a reference to b.\n",
    "\n",
    "This is similar to writing: x4 = b and the \"value\" (reference) of b is assigned to x4:"
   ]
  },
  {
   "cell_type": "code",
   "execution_count": 95,
   "metadata": {},
   "outputs": [],
   "source": [
    "b = [\"Flavia\", \"Michelle\"]\n",
    "x4 = b\n",
    "x4[1] = 'Kyra' "
   ]
  },
  {
   "cell_type": "code",
   "execution_count": 96,
   "metadata": {},
   "outputs": [
    {
     "data": {
      "text/plain": [
       "['Flavia', 'Kyra']"
      ]
     },
     "execution_count": 96,
     "metadata": {},
     "output_type": "execute_result"
    }
   ],
   "source": [
    "x4"
   ]
  },
  {
   "cell_type": "code",
   "execution_count": 97,
   "metadata": {},
   "outputs": [
    {
     "data": {
      "text/plain": [
       "['Flavia', 'Kyra']"
      ]
     },
     "execution_count": 97,
     "metadata": {},
     "output_type": "execute_result"
    }
   ],
   "source": [
    "b"
   ]
  },
  {
   "cell_type": "markdown",
   "metadata": {},
   "source": [
    "Assignment **x4 = b** does not copy the values inside the variable b, only its \"object reference\"\n",
    "\n",
    "\n",
    "This is because the way lists are stored in the computer's memory.\n",
    "\n",
    "Here list b is a reference to an object that is stored at some location. When assigning x4 = b means the object reference (location) gets copied to x4.\n",
    "\n",
    "So, to understand the behavior of these function we need to pay attention what is actually referenced to!\n",
    "\n",
    "Let's take another example of a function that changes its parameeter a list and it is also changes the value inside one:"
   ]
  },
  {
   "cell_type": "code",
   "execution_count": 98,
   "metadata": {},
   "outputs": [],
   "source": [
    "def f5(x5):\n",
    "    x5[1] =\"Kyra\"\n",
    "    x5 = 100\n",
    "    print(x5)"
   ]
  },
  {
   "cell_type": "code",
   "execution_count": 99,
   "metadata": {},
   "outputs": [],
   "source": [
    "b = [\"Flavia\", \"Michelle\"]"
   ]
  },
  {
   "cell_type": "code",
   "execution_count": 100,
   "metadata": {},
   "outputs": [
    {
     "name": "stdout",
     "output_type": "stream",
     "text": [
      "100\n"
     ]
    }
   ],
   "source": [
    "f5(b)"
   ]
  },
  {
   "cell_type": "code",
   "execution_count": 101,
   "metadata": {},
   "outputs": [
    {
     "data": {
      "text/plain": [
       "['Flavia', 'Kyra']"
      ]
     },
     "execution_count": 101,
     "metadata": {},
     "output_type": "execute_result"
    }
   ],
   "source": [
    "b"
   ]
  },
  {
   "cell_type": "markdown",
   "metadata": {},
   "source": [
    "## Explanation:  \n",
    "\n",
    "When we call f5(b), the value of b (a reference to a list) was assigned to parameter x5. That is both x5 and b reference to the same location in memory (&x5=&b). \n",
    "\n",
    "Since f5 changes the value inside x5, the change is reflected in b. That is, both x4 and b are ['Flavia', 'Kyra'].\n",
    "\n",
    "Next, f5 assignes a numeric value to parameter x5. A function accepts any value of x5 we specify. Thus, assignment **x5= 100** creates a new local variable. But, it does not change the contents at that memory location (&b), so b remained the same ['Flavia', 'Kyra'].\n",
    "\n",
    "This behavior is similar to writing a sequence of assignments: **x5=b** which means both x5 and b reference to the same location in memory (&x5=&b) and **x5 = 100** (passed by value):"
   ]
  },
  {
   "cell_type": "code",
   "execution_count": 102,
   "metadata": {},
   "outputs": [],
   "source": [
    "b = [\"Flavia\", \"Michelle\"]\n",
    "x5 = b\n",
    "x5[1]= \"Kyra\"\n",
    "x5 = 100\n"
   ]
  },
  {
   "cell_type": "code",
   "execution_count": 103,
   "metadata": {},
   "outputs": [
    {
     "data": {
      "text/plain": [
       "100"
      ]
     },
     "execution_count": 103,
     "metadata": {},
     "output_type": "execute_result"
    }
   ],
   "source": [
    "x5"
   ]
  },
  {
   "cell_type": "code",
   "execution_count": 104,
   "metadata": {},
   "outputs": [
    {
     "data": {
      "text/plain": [
       "['Flavia', 'Kyra']"
      ]
     },
     "execution_count": 104,
     "metadata": {},
     "output_type": "execute_result"
    }
   ],
   "source": [
    "b"
   ]
  },
  {
   "cell_type": "markdown",
   "metadata": {},
   "source": [
    "## Local scope\n",
    "\n",
    "The value stored in a parameter is forgotten  after the function call -  this is similar behavior to program’s variables which are destroyed after the program terminates"
   ]
  },
  {
   "cell_type": "code",
   "execution_count": 112,
   "metadata": {},
   "outputs": [],
   "source": [
    "def f6(x6):\n",
    "    print('Hello ' + x6)"
   ]
  },
  {
   "cell_type": "code",
   "execution_count": 118,
   "metadata": {},
   "outputs": [
    {
     "name": "stdout",
     "output_type": "stream",
     "text": [
      "Hello Kyra\n"
     ]
    }
   ],
   "source": [
    "f6(\"Kyra\")"
   ]
  },
  {
   "cell_type": "code",
   "execution_count": 119,
   "metadata": {},
   "outputs": [
    {
     "ename": "NameError",
     "evalue": "name 'x6' is not defined",
     "output_type": "error",
     "traceback": [
      "\u001b[1;31m---------------------------------------------------------------------------\u001b[0m",
      "\u001b[1;31mNameError\u001b[0m                                 Traceback (most recent call last)",
      "\u001b[1;32m<ipython-input-119-1592710a875d>\u001b[0m in \u001b[0;36m<module>\u001b[1;34m\u001b[0m\n\u001b[1;32m----> 1\u001b[1;33m \u001b[0mx6\u001b[0m\u001b[1;33m\u001b[0m\u001b[1;33m\u001b[0m\u001b[0m\n\u001b[0m",
      "\u001b[1;31mNameError\u001b[0m: name 'x6' is not defined"
     ]
    }
   ],
   "source": [
    "x6"
   ]
  },
  {
   "cell_type": "markdown",
   "metadata": {},
   "source": [
    "### Parameters position\n",
    "\n",
    "Their order matter:"
   ]
  },
  {
   "cell_type": "code",
   "execution_count": 120,
   "metadata": {},
   "outputs": [],
   "source": [
    "def f7(x,y):\n",
    "    return(x + 2*y)"
   ]
  },
  {
   "cell_type": "code",
   "execution_count": 121,
   "metadata": {},
   "outputs": [
    {
     "data": {
      "text/plain": [
       "8"
      ]
     },
     "execution_count": 121,
     "metadata": {},
     "output_type": "execute_result"
    }
   ],
   "source": [
    "f7(2,3)"
   ]
  },
  {
   "cell_type": "code",
   "execution_count": 122,
   "metadata": {},
   "outputs": [
    {
     "data": {
      "text/plain": [
       "7"
      ]
     },
     "execution_count": 122,
     "metadata": {},
     "output_type": "execute_result"
    }
   ],
   "source": [
    "f7(3,2)"
   ]
  },
  {
   "cell_type": "markdown",
   "metadata": {},
   "source": [
    "To specify parameters in any order, refer to parameters by name or assign default values"
   ]
  },
  {
   "cell_type": "code",
   "execution_count": 123,
   "metadata": {},
   "outputs": [],
   "source": [
    "def f8(x=0, y=1):\n",
    "    return(x+2*y)"
   ]
  },
  {
   "cell_type": "code",
   "execution_count": 125,
   "metadata": {},
   "outputs": [
    {
     "data": {
      "text/plain": [
       "8"
      ]
     },
     "execution_count": 125,
     "metadata": {},
     "output_type": "execute_result"
    }
   ],
   "source": [
    "f8(x=2,y=3)"
   ]
  },
  {
   "cell_type": "code",
   "execution_count": 126,
   "metadata": {},
   "outputs": [
    {
     "data": {
      "text/plain": [
       "8"
      ]
     },
     "execution_count": 126,
     "metadata": {},
     "output_type": "execute_result"
    }
   ],
   "source": [
    "f8(y=3,x=2)"
   ]
  },
  {
   "cell_type": "markdown",
   "metadata": {},
   "source": [
    "## Functions with arbitrary number of unnamed and named parameters\n",
    "\n",
    "using args (for list arguments):"
   ]
  },
  {
   "cell_type": "code",
   "execution_count": 127,
   "metadata": {},
   "outputs": [],
   "source": [
    "def f9(*argv):  \n",
    "    for arg in argv:  \n",
    "        print (arg) \n",
    "    \n"
   ]
  },
  {
   "cell_type": "code",
   "execution_count": 128,
   "metadata": {},
   "outputs": [
    {
     "name": "stdout",
     "output_type": "stream",
     "text": [
      "Flavia\n",
      "Michelle\n",
      "Kyra\n"
     ]
    }
   ],
   "source": [
    "x = [\"Flavia\", \"Michelle\",\"Kyra\"]\n",
    "f9(*x)"
   ]
  },
  {
   "cell_type": "markdown",
   "metadata": {},
   "source": [
    "using kwargs (for dictionary arguments):"
   ]
  },
  {
   "cell_type": "code",
   "execution_count": 129,
   "metadata": {},
   "outputs": [],
   "source": [
    "def f10(**kwargs):  \n",
    "    for k, v in kwargs.items(): \n",
    "        print(k, v) "
   ]
  },
  {
   "cell_type": "code",
   "execution_count": 130,
   "metadata": {},
   "outputs": [],
   "source": [
    "d= {'first': 1, 'second': 2, \"third\" :3}"
   ]
  },
  {
   "cell_type": "code",
   "execution_count": 131,
   "metadata": {},
   "outputs": [
    {
     "name": "stdout",
     "output_type": "stream",
     "text": [
      "first 1\n",
      "second 2\n",
      "third 3\n"
     ]
    }
   ],
   "source": [
    "f10(**d)"
   ]
  },
  {
   "cell_type": "markdown",
   "metadata": {},
   "source": [
    "Note: Avoid using mutable objects like lists and dicts as the default value of a parameter for debugging issues"
   ]
  },
  {
   "cell_type": "markdown",
   "metadata": {},
   "source": [
    "## Passing Information to Functions \n",
    "\n",
    "Define file open and read in a function "
   ]
  },
  {
   "cell_type": "code",
   "execution_count": null,
   "metadata": {},
   "outputs": [],
   "source": [
    "import sys\n",
    "       \n",
    "def some_function(file, some_params):\n",
    "        data= open(file).read()\n",
    "    ...   \n",
    "        return do_stuff(open_file)\n"
   ]
  },
  {
   "cell_type": "markdown",
   "metadata": {},
   "source": [
    "Note: when working with many open files use:"
   ]
  },
  {
   "cell_type": "code",
   "execution_count": null,
   "metadata": {},
   "outputs": [],
   "source": [
    "with open(file) as f:\n",
    "    data = f.read()\n",
    "... "
   ]
  }
 ],
 "metadata": {
  "kernelspec": {
   "display_name": "Python 3",
   "language": "python",
   "name": "python3"
  },
  "language_info": {
   "codemirror_mode": {
    "name": "ipython",
    "version": 3
   },
   "file_extension": ".py",
   "mimetype": "text/x-python",
   "name": "python",
   "nbconvert_exporter": "python",
   "pygments_lexer": "ipython3",
   "version": "3.8.3"
  }
 },
 "nbformat": 4,
 "nbformat_minor": 4
}
