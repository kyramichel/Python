{
 "cells": [
  {
   "cell_type": "markdown",
   "id": "9a599a6f",
   "metadata": {},
   "source": [
    "## List Comprehensions, Map, Filter, Reduce, Lambda \n",
    "\n",
    "are useful tools when working with lists\n"
   ]
  },
  {
   "cell_type": "markdown",
   "id": "1a0bb37f",
   "metadata": {},
   "source": [
    "### Lists \n",
    "\n",
    "are flexible data structures"
   ]
  },
  {
   "cell_type": "code",
   "execution_count": 1,
   "id": "2de8053f",
   "metadata": {},
   "outputs": [
    {
     "data": {
      "text/plain": [
       "[2, 4, 'a', 'ice', 2.4, [1, 5], 'summer']"
      ]
     },
     "execution_count": 1,
     "metadata": {},
     "output_type": "execute_result"
    }
   ],
   "source": [
    "# items in a list need not be of the same data type\n",
    "\n",
    "l =[2, 4, 'a', 'ice', 2.4, [1,5],'summer']\n",
    "l"
   ]
  },
  {
   "cell_type": "code",
   "execution_count": 2,
   "id": "5995521b",
   "metadata": {},
   "outputs": [
    {
     "data": {
      "text/plain": [
       "[2, 4, 'a', 'ice', 2.4, [1, 5], 'summer', 2, 6]"
      ]
     },
     "execution_count": 2,
     "metadata": {},
     "output_type": "execute_result"
    }
   ],
   "source": [
    "l + [2,6] # add 2 lists"
   ]
  },
  {
   "cell_type": "code",
   "execution_count": 3,
   "id": "a024ef40",
   "metadata": {},
   "outputs": [
    {
     "data": {
      "text/plain": [
       "[0, 1, 2, 3, 4]"
      ]
     },
     "execution_count": 3,
     "metadata": {},
     "output_type": "execute_result"
    }
   ],
   "source": [
    "L = list(range(5))\n",
    "L"
   ]
  },
  {
   "cell_type": "code",
   "execution_count": 4,
   "id": "b8b7c000",
   "metadata": {},
   "outputs": [
    {
     "data": {
      "text/plain": [
       "[0, 1, 2, 3, 4, 5]"
      ]
     },
     "execution_count": 4,
     "metadata": {},
     "output_type": "execute_result"
    }
   ],
   "source": [
    "#add items\n",
    "L.append(5)\n",
    "L"
   ]
  },
  {
   "cell_type": "code",
   "execution_count": 5,
   "id": "530993c3",
   "metadata": {},
   "outputs": [],
   "source": [
    "L.extend([6,-2])"
   ]
  },
  {
   "cell_type": "code",
   "execution_count": 123,
   "id": "5245a5fc",
   "metadata": {},
   "outputs": [
    {
     "data": {
      "text/plain": [
       "[1, 4, 7, 6, -2, 5, 6, -2]"
      ]
     },
     "execution_count": 123,
     "metadata": {},
     "output_type": "execute_result"
    }
   ],
   "source": [
    "L"
   ]
  },
  {
   "cell_type": "code",
   "execution_count": 6,
   "id": "85203a32",
   "metadata": {},
   "outputs": [
    {
     "data": {
      "text/plain": [
       "[0, 1, 3, 4, 5, 6, -2]"
      ]
     },
     "execution_count": 6,
     "metadata": {},
     "output_type": "execute_result"
    }
   ],
   "source": [
    "#delete item of a list by index\n",
    "del L[2]\n",
    "L"
   ]
  },
  {
   "cell_type": "code",
   "execution_count": 7,
   "id": "b4e0c8ab",
   "metadata": {},
   "outputs": [],
   "source": [
    "#remove item by value\n",
    "L.remove(4)"
   ]
  },
  {
   "cell_type": "code",
   "execution_count": 8,
   "id": "ce6c771b",
   "metadata": {},
   "outputs": [
    {
     "data": {
      "text/plain": [
       "[0, 1, 3, 5, 6, -2]"
      ]
     },
     "execution_count": 8,
     "metadata": {},
     "output_type": "execute_result"
    }
   ],
   "source": [
    "L"
   ]
  },
  {
   "cell_type": "code",
   "execution_count": 10,
   "id": "ecb88394",
   "metadata": {},
   "outputs": [
    {
     "data": {
      "text/plain": [
       "6"
      ]
     },
     "execution_count": 10,
     "metadata": {},
     "output_type": "execute_result"
    }
   ],
   "source": [
    "# use pop{} if want to use the value of an item after remove it (last item)\n",
    "\n",
    "last_item = L.pop()\n",
    "last_item"
   ]
  },
  {
   "cell_type": "code",
   "execution_count": 11,
   "id": "4bdc415a",
   "metadata": {},
   "outputs": [
    {
     "data": {
      "text/plain": [
       "[0, 1, 3, 5]"
      ]
     },
     "execution_count": 11,
     "metadata": {},
     "output_type": "execute_result"
    }
   ],
   "source": [
    "L"
   ]
  },
  {
   "cell_type": "code",
   "execution_count": 12,
   "id": "80d8be13",
   "metadata": {},
   "outputs": [
    {
     "data": {
      "text/plain": [
       "0"
      ]
     },
     "execution_count": 12,
     "metadata": {},
     "output_type": "execute_result"
    }
   ],
   "source": [
    "L = [4,1,0, 5,6,3,9]\n",
    "third_item = L.pop(2) #use pop()to remove item by index\n",
    "third_item"
   ]
  },
  {
   "cell_type": "code",
   "execution_count": 13,
   "id": "ff6ceb3a",
   "metadata": {},
   "outputs": [
    {
     "data": {
      "text/plain": [
       "[4, 1, 5, 6, 3, 9]"
      ]
     },
     "execution_count": 13,
     "metadata": {},
     "output_type": "execute_result"
    }
   ],
   "source": [
    "L"
   ]
  },
  {
   "cell_type": "code",
   "execution_count": 14,
   "id": "bc3c3b98",
   "metadata": {},
   "outputs": [
    {
     "data": {
      "text/plain": [
       "[9, 3, 6, 5, 1, 4]"
      ]
     },
     "execution_count": 14,
     "metadata": {},
     "output_type": "execute_result"
    }
   ],
   "source": [
    "#reverse list\n",
    "L.reverse()\n",
    "L"
   ]
  },
  {
   "cell_type": "code",
   "execution_count": 15,
   "id": "d9ad6b9e",
   "metadata": {},
   "outputs": [
    {
     "data": {
      "text/plain": [
       "[1, 3, 4, 5, 6, 9]"
      ]
     },
     "execution_count": 15,
     "metadata": {},
     "output_type": "execute_result"
    }
   ],
   "source": [
    "#temp sorting\n",
    "\n",
    "sorted(L)"
   ]
  },
  {
   "cell_type": "code",
   "execution_count": 16,
   "id": "34c4c046",
   "metadata": {},
   "outputs": [
    {
     "data": {
      "text/plain": [
       "[9, 3, 6, 5, 1, 4]"
      ]
     },
     "execution_count": 16,
     "metadata": {},
     "output_type": "execute_result"
    }
   ],
   "source": [
    "L"
   ]
  },
  {
   "cell_type": "code",
   "execution_count": 17,
   "id": "b089ad9b",
   "metadata": {},
   "outputs": [
    {
     "data": {
      "text/plain": [
       "[1, 3, 4, 5, 6, 9]"
      ]
     },
     "execution_count": 17,
     "metadata": {},
     "output_type": "execute_result"
    }
   ],
   "source": [
    "# sorting\n",
    "L.sort()\n",
    "L"
   ]
  },
  {
   "cell_type": "code",
   "execution_count": 18,
   "id": "01c97273",
   "metadata": {},
   "outputs": [
    {
     "data": {
      "text/plain": [
       "[9, 6, 5, 4, 3, 1]"
      ]
     },
     "execution_count": 18,
     "metadata": {},
     "output_type": "execute_result"
    }
   ],
   "source": [
    "L.sort(reverse=True)\n",
    "L"
   ]
  },
  {
   "cell_type": "markdown",
   "id": "80f12c3c",
   "metadata": {},
   "source": [
    "slicing"
   ]
  },
  {
   "cell_type": "code",
   "execution_count": 19,
   "id": "a313b4fb",
   "metadata": {},
   "outputs": [
    {
     "data": {
      "text/plain": [
       "[5, 4, 3]"
      ]
     },
     "execution_count": 19,
     "metadata": {},
     "output_type": "execute_result"
    }
   ],
   "source": [
    "L[2:5] # 2nd, 3rd, 4th items"
   ]
  },
  {
   "cell_type": "code",
   "execution_count": 20,
   "id": "c7108fcf",
   "metadata": {},
   "outputs": [
    {
     "data": {
      "text/plain": [
       "[9, 6, 5]"
      ]
     },
     "execution_count": 20,
     "metadata": {},
     "output_type": "execute_result"
    }
   ],
   "source": [
    "#everything up to last 3rd item\n",
    "L[:-3]"
   ]
  },
  {
   "cell_type": "code",
   "execution_count": 21,
   "id": "fb6dd756",
   "metadata": {},
   "outputs": [
    {
     "data": {
      "text/plain": [
       "[9, 6, 5, 4, 3]"
      ]
     },
     "execution_count": 21,
     "metadata": {},
     "output_type": "execute_result"
    }
   ],
   "source": [
    "# up to last item (last item not included)\n",
    "L[:-1]"
   ]
  },
  {
   "cell_type": "code",
   "execution_count": 22,
   "id": "fd5fda9d",
   "metadata": {},
   "outputs": [
    {
     "data": {
      "text/plain": [
       "[4, 3, 1]"
      ]
     },
     "execution_count": 22,
     "metadata": {},
     "output_type": "execute_result"
    }
   ],
   "source": [
    "# slice the list from last 3rd item to end\n",
    "L[-3:]"
   ]
  },
  {
   "cell_type": "markdown",
   "id": "03284292",
   "metadata": {},
   "source": [
    "## Working with lists \n",
    "\n",
    "### List Comprehensions\n",
    "\n",
    "to generate items of a list in a compact form"
   ]
  },
  {
   "cell_type": "code",
   "execution_count": 23,
   "id": "00625653",
   "metadata": {},
   "outputs": [
    {
     "data": {
      "text/plain": [
       "[0, 1, 4]"
      ]
     },
     "execution_count": 23,
     "metadata": {},
     "output_type": "execute_result"
    }
   ],
   "source": [
    "#Using for loop to generate a list\n",
    "\n",
    "l2 = []\n",
    "for l in range(3):\n",
    "    l2.append(l**2)\n",
    "l2   "
   ]
  },
  {
   "cell_type": "code",
   "execution_count": 24,
   "id": "3ce32c21",
   "metadata": {},
   "outputs": [
    {
     "data": {
      "text/plain": [
       "[0, 1, 4]"
      ]
     },
     "execution_count": 24,
     "metadata": {},
     "output_type": "execute_result"
    }
   ],
   "source": [
    "#vs Using list comprehension to generate the items of a list:\n",
    "\n",
    "l1 = [l**2 for l in range(3)]\n",
    "l1"
   ]
  },
  {
   "cell_type": "markdown",
   "id": "72200537",
   "metadata": {},
   "source": [
    "List comprehension allows to generate same list in just one line of code"
   ]
  },
  {
   "cell_type": "code",
   "execution_count": 25,
   "id": "d8406aca",
   "metadata": {},
   "outputs": [
    {
     "name": "stdout",
     "output_type": "stream",
     "text": [
      "1\n",
      "125\n",
      "64\n"
     ]
    }
   ],
   "source": [
    "# another ex -using for loop:\n",
    "L = [1, 5, 4]\n",
    "\n",
    "for i in range(3):\n",
    "    print(L[i]**3)"
   ]
  },
  {
   "cell_type": "code",
   "execution_count": 26,
   "id": "383a0a7e",
   "metadata": {},
   "outputs": [
    {
     "data": {
      "text/plain": [
       "[1, 125, 64]"
      ]
     },
     "execution_count": 26,
     "metadata": {},
     "output_type": "execute_result"
    }
   ],
   "source": [
    "#vs using list comprehension\n",
    "\n",
    "[l**3 for l in L]"
   ]
  },
  {
   "cell_type": "markdown",
   "id": "a9f07288",
   "metadata": {},
   "source": [
    "enumerate:"
   ]
  },
  {
   "cell_type": "code",
   "execution_count": 27,
   "id": "7fd7a6c5",
   "metadata": {},
   "outputs": [
    {
     "name": "stdout",
     "output_type": "stream",
     "text": [
      "0 1\n",
      "1 25\n",
      "2 16\n"
     ]
    }
   ],
   "source": [
    "for i, l in enumerate(L):\n",
    "    print(i,l**2)"
   ]
  },
  {
   "cell_type": "code",
   "execution_count": 28,
   "id": "9c7e13c0",
   "metadata": {},
   "outputs": [
    {
     "data": {
      "text/plain": [
       "[0, 1, 2, 3, 4, 5, 6]"
      ]
     },
     "execution_count": 28,
     "metadata": {},
     "output_type": "execute_result"
    }
   ],
   "source": [
    "m = list(range(7))\n",
    "m"
   ]
  },
  {
   "cell_type": "code",
   "execution_count": 29,
   "id": "bd8dc8e7",
   "metadata": {},
   "outputs": [
    {
     "name": "stdout",
     "output_type": "stream",
     "text": [
      "2\n",
      "3\n",
      "4\n"
     ]
    }
   ],
   "source": [
    "#using for loop\n",
    "\n",
    "for l in m[2:5]:\n",
    "    print(l)"
   ]
  },
  {
   "cell_type": "code",
   "execution_count": 30,
   "id": "080120f5",
   "metadata": {},
   "outputs": [
    {
     "data": {
      "text/plain": [
       "[2, 3, 4]"
      ]
     },
     "execution_count": 30,
     "metadata": {},
     "output_type": "execute_result"
    }
   ],
   "source": [
    "#vs using list comprehension\n",
    "[l for l in m[2:5]]"
   ]
  },
  {
   "cell_type": "markdown",
   "id": "81bddfee",
   "metadata": {},
   "source": [
    "range"
   ]
  },
  {
   "cell_type": "code",
   "execution_count": 31,
   "id": "b4e08578",
   "metadata": {},
   "outputs": [
    {
     "name": "stdout",
     "output_type": "stream",
     "text": [
      "1\n",
      "3\n",
      "5\n",
      "7\n",
      "9\n"
     ]
    }
   ],
   "source": [
    "for i in range(1,10,2):\n",
    "    print(i)"
   ]
  },
  {
   "cell_type": "code",
   "execution_count": 32,
   "id": "c191c9e8",
   "metadata": {},
   "outputs": [
    {
     "name": "stdout",
     "output_type": "stream",
     "text": [
      "0\n",
      "1\n",
      "2\n"
     ]
    }
   ],
   "source": [
    "#using for loop\n",
    "for i in range(3):\n",
    "    print(i)"
   ]
  },
  {
   "cell_type": "code",
   "execution_count": 33,
   "id": "8de64ff6",
   "metadata": {},
   "outputs": [
    {
     "data": {
      "text/plain": [
       "[1, 3, 5, 7, 9]"
      ]
     },
     "execution_count": 33,
     "metadata": {},
     "output_type": "execute_result"
    }
   ],
   "source": [
    "#using list comprehension\n",
    "\n",
    "L = [l for l in range(1,10,2)]\n",
    "L"
   ]
  },
  {
   "cell_type": "markdown",
   "id": "fcc8cb90",
   "metadata": {},
   "source": [
    "### Map\n",
    "\n",
    "can be used to apply a function (built-in function, user-defined functions (with def), lambda anonymous functions) to all items of a list:"
   ]
  },
  {
   "cell_type": "code",
   "execution_count": 34,
   "id": "6b93031e",
   "metadata": {},
   "outputs": [],
   "source": [
    "#user-defined functions\n",
    "def f(x):\n",
    "    return x**3"
   ]
  },
  {
   "cell_type": "code",
   "execution_count": 35,
   "id": "a8d53e2c",
   "metadata": {},
   "outputs": [
    {
     "data": {
      "text/plain": [
       "[0, 1, 2, 3, 4, 5, 6]"
      ]
     },
     "execution_count": 35,
     "metadata": {},
     "output_type": "execute_result"
    }
   ],
   "source": [
    "L = list(range(7))\n",
    "L"
   ]
  },
  {
   "cell_type": "code",
   "execution_count": 36,
   "id": "9b5a8958",
   "metadata": {},
   "outputs": [
    {
     "data": {
      "text/plain": [
       "<map at 0x22c3fe3df40>"
      ]
     },
     "execution_count": 36,
     "metadata": {},
     "output_type": "execute_result"
    }
   ],
   "source": [
    "map(f, range(7))"
   ]
  },
  {
   "cell_type": "markdown",
   "id": "359cea7f",
   "metadata": {},
   "source": [
    "Note: map() returns an iterator of type map"
   ]
  },
  {
   "cell_type": "code",
   "execution_count": 37,
   "id": "b8840554",
   "metadata": {},
   "outputs": [
    {
     "data": {
      "text/plain": [
       "[0, 1, 8, 27, 64, 125, 216]"
      ]
     },
     "execution_count": 37,
     "metadata": {},
     "output_type": "execute_result"
    }
   ],
   "source": [
    "#Use list comprehension to retrieve the values:\n",
    "\n",
    "[i for i in map(f, range(7))]"
   ]
  },
  {
   "cell_type": "code",
   "execution_count": 38,
   "id": "c40c836a",
   "metadata": {},
   "outputs": [
    {
     "data": {
      "text/plain": [
       "[0, 1, 8, 27, 64, 125, 216]"
      ]
     },
     "execution_count": 38,
     "metadata": {},
     "output_type": "execute_result"
    }
   ],
   "source": [
    "# or simply convert it to a list\n",
    "list(map(f, range(7)))"
   ]
  },
  {
   "cell_type": "markdown",
   "id": "c8fc6d38",
   "metadata": {},
   "source": [
    "Using map with lambda (annonymous) function:"
   ]
  },
  {
   "cell_type": "code",
   "execution_count": 39,
   "id": "e9404e10",
   "metadata": {},
   "outputs": [
    {
     "data": {
      "text/plain": [
       "<map at 0x22c40e6d040>"
      ]
     },
     "execution_count": 39,
     "metadata": {},
     "output_type": "execute_result"
    }
   ],
   "source": [
    "map(lambda x: x ** 3, range(7))"
   ]
  },
  {
   "cell_type": "code",
   "execution_count": 40,
   "id": "1fc2347d",
   "metadata": {},
   "outputs": [
    {
     "data": {
      "text/plain": [
       "[0, 1, 8, 27, 64, 125, 216]"
      ]
     },
     "execution_count": 40,
     "metadata": {},
     "output_type": "execute_result"
    }
   ],
   "source": [
    "list(map(lambda x: x**3, range(7)))"
   ]
  },
  {
   "cell_type": "code",
   "execution_count": 41,
   "id": "a98a0b44",
   "metadata": {},
   "outputs": [],
   "source": [
    "L = list(range(1,10,2))"
   ]
  },
  {
   "cell_type": "code",
   "execution_count": 42,
   "id": "3189552b",
   "metadata": {},
   "outputs": [
    {
     "data": {
      "text/plain": [
       "[3, 11, 19, 27, 35]"
      ]
     },
     "execution_count": 42,
     "metadata": {},
     "output_type": "execute_result"
    }
   ],
   "source": [
    "list(map(lambda x:4*x-1, L))"
   ]
  },
  {
   "cell_type": "markdown",
   "id": "6dab6954",
   "metadata": {},
   "source": [
    "### Filter\n",
    "\n",
    "to filter a list items that match as per function defined"
   ]
  },
  {
   "cell_type": "code",
   "execution_count": 43,
   "id": "3c290ec5",
   "metadata": {},
   "outputs": [],
   "source": [
    "L = [2, -1, 5, 3, -11, 4, -6]"
   ]
  },
  {
   "cell_type": "code",
   "execution_count": 44,
   "id": "5a29cb80",
   "metadata": {},
   "outputs": [],
   "source": [
    "# user-defined function\n",
    "def g(n):\n",
    "    return n > 0"
   ]
  },
  {
   "cell_type": "code",
   "execution_count": 45,
   "id": "8239109f",
   "metadata": {},
   "outputs": [
    {
     "data": {
      "text/plain": [
       "<filter at 0x22c3fe48e50>"
      ]
     },
     "execution_count": 45,
     "metadata": {},
     "output_type": "execute_result"
    }
   ],
   "source": [
    "filter(g, L)"
   ]
  },
  {
   "cell_type": "markdown",
   "id": "076a094c",
   "metadata": {},
   "source": [
    "Note: filter() also returns an iterator "
   ]
  },
  {
   "cell_type": "code",
   "execution_count": 46,
   "id": "c2a13213",
   "metadata": {},
   "outputs": [
    {
     "data": {
      "text/plain": [
       "[2, 5, 3, 4]"
      ]
     },
     "execution_count": 46,
     "metadata": {},
     "output_type": "execute_result"
    }
   ],
   "source": [
    "list(filter(g, L))"
   ]
  },
  {
   "cell_type": "code",
   "execution_count": 47,
   "id": "613beb1d",
   "metadata": {},
   "outputs": [
    {
     "data": {
      "text/plain": [
       "<filter at 0x22c40e6d190>"
      ]
     },
     "execution_count": 47,
     "metadata": {},
     "output_type": "execute_result"
    }
   ],
   "source": [
    "filter(lambda x: x > 0, L)"
   ]
  },
  {
   "cell_type": "code",
   "execution_count": 48,
   "id": "b8cfb5c3",
   "metadata": {},
   "outputs": [
    {
     "data": {
      "text/plain": [
       "[2, 5, 3, 4]"
      ]
     },
     "execution_count": 48,
     "metadata": {},
     "output_type": "execute_result"
    }
   ],
   "source": [
    "list(filter(lambda x: x>0, L)) "
   ]
  },
  {
   "cell_type": "markdown",
   "id": "bfd6e25b",
   "metadata": {},
   "source": [
    "### Reduce\n",
    " \n",
    "allows to apply a function to all items of a list that returns a single value - ex to calculate the cummulative sum of items in a list/iterable\n",
    "\n",
    "need to import the “functools” module:"
   ]
  },
  {
   "cell_type": "code",
   "execution_count": 49,
   "id": "21878ce8",
   "metadata": {},
   "outputs": [],
   "source": [
    "from functools import reduce"
   ]
  },
  {
   "cell_type": "code",
   "execution_count": 50,
   "id": "ea5e6235",
   "metadata": {},
   "outputs": [],
   "source": [
    "mylist = [1, 4, 7]"
   ]
  },
  {
   "cell_type": "code",
   "execution_count": 51,
   "id": "282414ea",
   "metadata": {},
   "outputs": [
    {
     "data": {
      "text/plain": [
       "12"
      ]
     },
     "execution_count": 51,
     "metadata": {},
     "output_type": "execute_result"
    }
   ],
   "source": [
    "reduce(lambda x, y: x + y, mylist)"
   ]
  }
 ],
 "metadata": {
  "kernelspec": {
   "display_name": "Python 3 (ipykernel)",
   "language": "python",
   "name": "python3"
  },
  "language_info": {
   "codemirror_mode": {
    "name": "ipython",
    "version": 3
   },
   "file_extension": ".py",
   "mimetype": "text/x-python",
   "name": "python",
   "nbconvert_exporter": "python",
   "pygments_lexer": "ipython3",
   "version": "3.9.12"
  }
 },
 "nbformat": 4,
 "nbformat_minor": 5
}
