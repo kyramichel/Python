{
 "cells": [
  {
   "cell_type": "markdown",
   "id": "9f4c9094",
   "metadata": {},
   "source": [
    "# Positional number systems, Bitwise Logical Operators "
   ]
  },
  {
   "cell_type": "markdown",
   "id": "49d4796c",
   "metadata": {},
   "source": [
    "##  Digital number systems\n",
    "\n",
    "are positional numeral systems that use digits (symbols) to represent information:\n",
    "\n",
    "(base = #of digits used)\n"
   ]
  },
  {
   "attachments": {
    "digital_system.gif": {
     "image/gif": "[encoded data removed]"
    }
   },
   "cell_type": "markdown",
   "id": "a21efa29",
   "metadata": {},
   "source": [
    "![digital_system.gif](attachment:digital_system.gif)\n"
   ]
  },
  {
   "cell_type": "markdown",
   "id": "b3599e44",
   "metadata": {},
   "source": [
    "\n",
    "Digital computers use digital number systems to store, process  communicate information.  \n",
    "\n",
    "That are various digital number systems to represent information: \n",
    "\n",
    "\n",
    "Decimal system (base 10)  - the number system that we use in our day-to-day life\n",
    "\n",
    "- digital numeral system that uses 10 digits: 0, 1, 2, 3, 4, 5, 6, 7, 8, 9\n",
    "\n",
    "Binary system (base 2) \n",
    "\n",
    "- digital numeral system that uses 2 digits: 0, 1\n",
    "\n",
    "Hexadecimal system (base 16)\n",
    "\n",
    "- digital numeral system that uses all digits: 0 to 9 and Letters: A- F\n"
   ]
  },
  {
   "cell_type": "markdown",
   "id": "bcb564a4",
   "metadata": {},
   "source": [
    "Below: \n",
    "    \n",
    "- number 1573 is a decimal number represented in base 10 using 0-9 digits\n",
    "\n",
    "- number 1011 is a binary number represented in base 2 using 0 and 1 digits\n",
    "\n",
    "- number FA29 is a hexadecimal number represented in base 16 using 0-9 digits and Letters A-F"
   ]
  },
  {
   "attachments": {
    "positional_system.gif": {
     "image/gif": "[encoded data removed]"
    }
   },
   "cell_type": "markdown",
   "id": "846f6325",
   "metadata": {},
   "source": [
    "![positional_system.gif](attachment:positional_system.gif)\n"
   ]
  },
  {
   "cell_type": "markdown",
   "id": "cf7e5f6c",
   "metadata": {},
   "source": [
    "In Python, to convert btw binary and decimal numeric representations use:"
   ]
  },
  {
   "cell_type": "code",
   "execution_count": 1,
   "id": "4231e676",
   "metadata": {},
   "outputs": [],
   "source": [
    "n = 153 # decimal number"
   ]
  },
  {
   "cell_type": "code",
   "execution_count": 2,
   "id": "541a1902",
   "metadata": {},
   "outputs": [
    {
     "data": {
      "text/plain": [
       "'0b10011001'"
      ]
     },
     "execution_count": 2,
     "metadata": {},
     "output_type": "execute_result"
    }
   ],
   "source": [
    "b = bin(n)\n",
    "b"
   ]
  },
  {
   "cell_type": "code",
   "execution_count": 3,
   "id": "19aa1d94",
   "metadata": {},
   "outputs": [
    {
     "data": {
      "text/plain": [
       "153"
      ]
     },
     "execution_count": 3,
     "metadata": {},
     "output_type": "execute_result"
    }
   ],
   "source": [
    "int(b,2)"
   ]
  },
  {
   "cell_type": "markdown",
   "id": "acffe177",
   "metadata": {},
   "source": [
    "For hexadecimal representation, to get the decimal value use:"
   ]
  },
  {
   "cell_type": "code",
   "execution_count": 4,
   "id": "509ebf8e",
   "metadata": {},
   "outputs": [
    {
     "data": {
      "text/plain": [
       "64041"
      ]
     },
     "execution_count": 4,
     "metadata": {},
     "output_type": "execute_result"
    }
   ],
   "source": [
    "int('FA29', 16) "
   ]
  },
  {
   "cell_type": "code",
   "execution_count": 5,
   "id": "faa82714",
   "metadata": {},
   "outputs": [
    {
     "data": {
      "text/plain": [
       "'0xfa29'"
      ]
     },
     "execution_count": 5,
     "metadata": {},
     "output_type": "execute_result"
    }
   ],
   "source": [
    "hex(64041) "
   ]
  },
  {
   "cell_type": "markdown",
   "id": "c3280324",
   "metadata": {},
   "source": [
    "## Binary system  (base 2) \n",
    "\n",
    "in computer technology since binary systems use only 2 digits: 0 and 1 that can be represented on electromechanical devices as 2 states: On/Off\n",
    "\n",
    "## Bits\n",
    "\n",
    "Each 1 or 0 in a binary number is called a bit.\n"
   ]
  },
  {
   "cell_type": "markdown",
   "id": "e998254f",
   "metadata": {},
   "source": [
    "## Units of data:\n",
    "\n",
    "\n",
    "A bit (b) is the most basic unit of information (digital data storage) in computing.\n",
    "\n",
    " -  a bit can be represented by the electrical state of a flip-flop circuit or  or current pulse\n",
    "\n",
    "A Byte (B) is 8-bits long (standard is 8, but that number can vary from system to system, depending on the hardware)\n",
    "\n",
    "A Byte is the smallest addressable unit of memory - can represent any value from 00000000 through 11111111   \n",
    "\n",
    "A Byte can store a numerical value between 0 and 255"
   ]
  },
  {
   "cell_type": "markdown",
   "id": "bd26f4d7",
   "metadata": {},
   "source": [
    "## Unbounded stream \n",
    "\n",
    "when output number is higher than the maximum value that you can store on a single byte (decimal value 255 or in binay representation, 11111111)\n",
    "\n",
    "Variable bit-lengths can be problematic since the maximum decimal number that can be represented with 1 byte is 255\n",
    "\n",
    "In Python, one can check the variable bit_length:"
   ]
  },
  {
   "cell_type": "code",
   "execution_count": 6,
   "id": "f8b2e48c",
   "metadata": {},
   "outputs": [
    {
     "data": {
      "text/plain": [
       "11"
      ]
     },
     "execution_count": 6,
     "metadata": {},
     "output_type": "execute_result"
    }
   ],
   "source": [
    "(1573).bit_length()"
   ]
  },
  {
   "cell_type": "code",
   "execution_count": 7,
   "id": "b55a52d5",
   "metadata": {},
   "outputs": [
    {
     "data": {
      "text/plain": [
       "'0b10011001'"
      ]
     },
     "execution_count": 7,
     "metadata": {},
     "output_type": "execute_result"
    }
   ],
   "source": [
    "bin(153)"
   ]
  },
  {
   "cell_type": "code",
   "execution_count": 8,
   "id": "79de96fc",
   "metadata": {},
   "outputs": [],
   "source": [
    "#define a function to replace 0b with the 0000 \n",
    "\n",
    "def d2b(n):\n",
    "    return bin(n).replace(\"0b\", \"0000\")"
   ]
  },
  {
   "cell_type": "code",
   "execution_count": 9,
   "id": "4e3def06",
   "metadata": {},
   "outputs": [
    {
     "data": {
      "text/plain": [
       "'000010011001'"
      ]
     },
     "execution_count": 9,
     "metadata": {},
     "output_type": "execute_result"
    }
   ],
   "source": [
    "d2b(153)"
   ]
  },
  {
   "cell_type": "markdown",
   "id": "c46af7c7",
   "metadata": {},
   "source": [
    "\n",
    "## Bitwise Logical Operators  to perform Boolean logic on individual bits. \n",
    "\n",
    "Bitwise operators allows to directly operate or manipulate bits\n",
    "\n",
    "Applications include: encryption, error detection, compression and for parsing hexadecimal colors (see below)"
   ]
  },
  {
   "attachments": {
    "bitwise%20AND.gif": {
     "image/gif": "[encoded data removed]"
    }
   },
   "cell_type": "markdown",
   "id": "3f2d6940",
   "metadata": {},
   "source": [
    "## Bitwise Logical Operator AND  (&) \n",
    "\n",
    "- performs logical conjunction on the corresponding bits of its operands.\n",
    "\n",
    "For each pair of bits occupying the same position, the AND operator (&) returns 1 if 1 exists in both operands \n",
    "\n",
    "<-> for each pair of bits (xi,yi) occupying the same position in the operands x and y, the xi&yi = 1 only when both bits xi = 1 and yi=1.\n",
    "\n",
    "x = 10 (in binary 00001010) y = 3 (in binary 00001000). Then\n",
    "\n",
    "x & y = 2 (in binary 00001000):\n",
    "\n",
    "![bitwise%20AND.gif](attachment:bitwise%20AND.gif)\n",
    "\n",
    "(note: <-> (x&y)i = xi*yi)"
   ]
  },
  {
   "cell_type": "code",
   "execution_count": 10,
   "id": "94166877",
   "metadata": {},
   "outputs": [],
   "source": [
    "x = 10"
   ]
  },
  {
   "cell_type": "code",
   "execution_count": 11,
   "id": "9c56eea7",
   "metadata": {},
   "outputs": [
    {
     "data": {
      "text/plain": [
       "'00001010'"
      ]
     },
     "execution_count": 11,
     "metadata": {},
     "output_type": "execute_result"
    }
   ],
   "source": [
    "d2b(10)"
   ]
  },
  {
   "cell_type": "code",
   "execution_count": 12,
   "id": "b6ab7929",
   "metadata": {},
   "outputs": [],
   "source": [
    "y=8"
   ]
  },
  {
   "cell_type": "code",
   "execution_count": 13,
   "id": "89213aeb",
   "metadata": {},
   "outputs": [
    {
     "data": {
      "text/plain": [
       "'000011'"
      ]
     },
     "execution_count": 13,
     "metadata": {},
     "output_type": "execute_result"
    }
   ],
   "source": [
    "d2b(3)"
   ]
  },
  {
   "cell_type": "code",
   "execution_count": 14,
   "id": "9e7ae9e8",
   "metadata": {},
   "outputs": [
    {
     "data": {
      "text/plain": [
       "2"
      ]
     },
     "execution_count": 14,
     "metadata": {},
     "output_type": "execute_result"
    }
   ],
   "source": [
    "10&3"
   ]
  },
  {
   "cell_type": "code",
   "execution_count": 15,
   "id": "58efe51f",
   "metadata": {},
   "outputs": [
    {
     "data": {
      "text/plain": [
       "'000010'"
      ]
     },
     "execution_count": 15,
     "metadata": {},
     "output_type": "execute_result"
    }
   ],
   "source": [
    "d2b(10&3)"
   ]
  },
  {
   "attachments": {
    "bitwise%20OR.gif": {
     "image/gif": "[encoded data removed]"
    }
   },
   "cell_type": "markdown",
   "id": "00b2fb11",
   "metadata": {},
   "source": [
    "## Bitwise Logical Operator OR (|) \n",
    "\n",
    "- performs logical disjunction on the corresponding bits of its operands.\n",
    "\n",
    "    For each pair of bits occupying the same position, the OR operator (|) returns 1 if 1 exist in at least one of them\n",
    "\n",
    "<-> for each pair of bits (xi,yi) occupying the same position in the operands x and y, the x|yi = 1 if xi=1 or yi=1\n",
    "\n",
    "x = 10 (in binary 00001010) y = 3 (in binary 00001000). Then\n",
    "\n",
    "x | y = 11 (in binary 00001011):\n",
    "\n",
    "![bitwise%20OR.gif](attachment:bitwise%20OR.gif)\n",
    "\n",
    "(note: <-> (x|y)i= xi + yi - (x&y)i)"
   ]
  },
  {
   "cell_type": "code",
   "execution_count": 16,
   "id": "b410e9ac",
   "metadata": {},
   "outputs": [
    {
     "data": {
      "text/plain": [
       "11"
      ]
     },
     "execution_count": 16,
     "metadata": {},
     "output_type": "execute_result"
    }
   ],
   "source": [
    "10|3"
   ]
  },
  {
   "cell_type": "code",
   "execution_count": 17,
   "id": "4f2b35f1",
   "metadata": {},
   "outputs": [
    {
     "data": {
      "text/plain": [
       "'00001011'"
      ]
     },
     "execution_count": 17,
     "metadata": {},
     "output_type": "execute_result"
    }
   ],
   "source": [
    "d2b(10|3) "
   ]
  },
  {
   "attachments": {
    "bitwise%20XOR.gif": {
     "image/gif": "[encoded data removed]"
    }
   },
   "cell_type": "markdown",
   "id": "76e81cb5",
   "metadata": {},
   "source": [
    "## Bitwise Logical Operator XOR (^) \n",
    "\n",
    "\n",
    "- XOR (\"exclusive or”) performs exclusive disjunction on the corresponding bits of its operands.\n",
    "\n",
    "\n",
    "- it is a symmetric difference\n",
    "\n",
    "    For each pair of bits occupying the same position, the XOR operator (|) returns 1 if 1 exist in one of them, but not both 1.\n",
    "\n",
    "<-> for each pair of bits (xi,yi) occupying the same position in the operands x and y, the x^yi = 1 if xi=1 or yi=1 (but not both 1)\n",
    "\n",
    "\n",
    "x = 10 (in binary 00001010) y = 3 (in binary 00001000). Then\n",
    "\n",
    "x ^ y = 9 (in binary 00001001):\n",
    "\n",
    "\n",
    "![bitwise%20XOR.gif](attachment:bitwise%20XOR.gif)\n",
    "(note: <-> (x^y)i = (xi + yi)mod2)\n",
    "\n",
    "\n",
    "\n",
    "\n"
   ]
  },
  {
   "cell_type": "code",
   "execution_count": 18,
   "id": "789157f8",
   "metadata": {},
   "outputs": [
    {
     "data": {
      "text/plain": [
       "9"
      ]
     },
     "execution_count": 18,
     "metadata": {},
     "output_type": "execute_result"
    }
   ],
   "source": [
    "10^3"
   ]
  },
  {
   "cell_type": "code",
   "execution_count": 19,
   "id": "59324ac8",
   "metadata": {},
   "outputs": [
    {
     "data": {
      "text/plain": [
       "'00001001'"
      ]
     },
     "execution_count": 19,
     "metadata": {},
     "output_type": "execute_result"
    }
   ],
   "source": [
    "d2b(10^3)"
   ]
  },
  {
   "attachments": {
    "bitwise%20NOT.gif": {
     "image/gif": "[encoded data removed]"
    }
   },
   "cell_type": "markdown",
   "id": "3636334a",
   "metadata": {},
   "source": [
    "## Bitwise Logical Operator NOT (~)\n",
    "\n",
    "flips bits <-> (~x)i  =  1-xi\n",
    "\n",
    "\n",
    "x = 10 (in binary 00001010) Then ~x = 245 (in binary '11110100'). Then\n",
    "\n",
    "\n",
    "![bitwise%20NOT.gif](attachment:bitwise%20NOT.gif)\n"
   ]
  },
  {
   "cell_type": "code",
   "execution_count": 20,
   "id": "a0cf81d7",
   "metadata": {},
   "outputs": [
    {
     "data": {
      "text/plain": [
       "-11"
      ]
     },
     "execution_count": 20,
     "metadata": {},
     "output_type": "execute_result"
    }
   ],
   "source": [
    "~10"
   ]
  },
  {
   "cell_type": "markdown",
   "id": "3a17aa43",
   "metadata": {},
   "source": [
    "\n",
    "NOTE: We got a negative value -11 instead of 245. This is because Python doesn’t support unsigned integers natively.\n",
    "\n",
    "To get the unsigned integer, one can use the bitwise logical operator & 255 (bitmask):"
   ]
  },
  {
   "cell_type": "code",
   "execution_count": 21,
   "id": "468a4be4",
   "metadata": {},
   "outputs": [
    {
     "data": {
      "text/plain": [
       "245"
      ]
     },
     "execution_count": 21,
     "metadata": {},
     "output_type": "execute_result"
    }
   ],
   "source": [
    "-11 & 255"
   ]
  },
  {
   "cell_type": "code",
   "execution_count": 22,
   "id": "e74dc26a",
   "metadata": {},
   "outputs": [
    {
     "data": {
      "text/plain": [
       "245"
      ]
     },
     "execution_count": 22,
     "metadata": {},
     "output_type": "execute_result"
    }
   ],
   "source": [
    "int('11110101',2)"
   ]
  },
  {
   "cell_type": "markdown",
   "id": "3fac8c6d",
   "metadata": {},
   "source": [
    "## Bitwise Shift Operators: left (<<) and right( >>)\n",
    "\n",
    "\n",
    "Bitwise left shift operator (<<) moves the bits of its first operand to the left by the number of places specified \n",
    "\n",
    "\n",
    "Bitwise right shift operator (>>) moves the bits of its first operand to the right by the number of places specified \n",
    "\n",
    "Below are some applications:\n",
    "\n",
    "x = 39 then x << 3 (shifting 39 by 3 places to the left) returns 312 (a number higher than the maximum value that can be stored on a single byte (max=255)\n"
   ]
  },
  {
   "cell_type": "code",
   "execution_count": 23,
   "id": "90d15f49",
   "metadata": {},
   "outputs": [
    {
     "data": {
      "text/plain": [
       "312"
      ]
     },
     "execution_count": 23,
     "metadata": {},
     "output_type": "execute_result"
    }
   ],
   "source": [
    "39 << 3"
   ]
  },
  {
   "cell_type": "markdown",
   "id": "eb3201ba",
   "metadata": {},
   "source": [
    "One can apply a bitmask with the appropriate value:"
   ]
  },
  {
   "cell_type": "code",
   "execution_count": 24,
   "id": "26208d1c",
   "metadata": {},
   "outputs": [
    {
     "data": {
      "text/plain": [
       "56"
      ]
     },
     "execution_count": 24,
     "metadata": {},
     "output_type": "execute_result"
    }
   ],
   "source": [
    "(39 << 3) & 255"
   ]
  },
  {
   "cell_type": "markdown",
   "id": "e85a79c3",
   "metadata": {},
   "source": [
    "## Bitwise operations application: parsing hexadecimal colours\n"
   ]
  },
  {
   "cell_type": "code",
   "execution_count": 25,
   "id": "fd05bb53",
   "metadata": {},
   "outputs": [
    {
     "data": {
      "text/plain": [
       "'#FF09BE'"
      ]
     },
     "execution_count": 25,
     "metadata": {},
     "output_type": "execute_result"
    }
   ],
   "source": [
    "'#FF09BE' #on computer colors are stored as hexadecimal number "
   ]
  },
  {
   "cell_type": "code",
   "execution_count": 26,
   "id": "0ddc0517",
   "metadata": {},
   "outputs": [
    {
     "data": {
      "text/plain": [
       "16714174"
      ]
     },
     "execution_count": 26,
     "metadata": {},
     "output_type": "execute_result"
    }
   ],
   "source": [
    "n = int('#FF09BE'.lstrip(\"#\"), 16) #decimal rgb value\n",
    "n"
   ]
  },
  {
   "cell_type": "markdown",
   "id": "95416bdb",
   "metadata": {},
   "source": [
    "### To extract r, g, b values using bitwise operators:"
   ]
  },
  {
   "cell_type": "code",
   "execution_count": 27,
   "id": "6e51fb71",
   "metadata": {},
   "outputs": [
    {
     "data": {
      "text/plain": [
       "255"
      ]
     },
     "execution_count": 27,
     "metadata": {},
     "output_type": "execute_result"
    }
   ],
   "source": [
    "# Shift 16 bits to the right, then binary AND to obtain 8 bits representing red\n",
    "r = ((n >> 16) & 0xFF)\n",
    "r"
   ]
  },
  {
   "cell_type": "code",
   "execution_count": 28,
   "id": "cf5e9ea0",
   "metadata": {},
   "outputs": [
    {
     "data": {
      "text/plain": [
       "9"
      ]
     },
     "execution_count": 28,
     "metadata": {},
     "output_type": "execute_result"
    }
   ],
   "source": [
    "# Shift 8 bits to the right, then binary AND to obtain 8 bits representing green\n",
    "g = ((n >> 8) & 0xFF)\n",
    "g"
   ]
  },
  {
   "cell_type": "code",
   "execution_count": 29,
   "id": "f94a5f4d",
   "metadata": {},
   "outputs": [
    {
     "data": {
      "text/plain": [
       "190"
      ]
     },
     "execution_count": 29,
     "metadata": {},
     "output_type": "execute_result"
    }
   ],
   "source": [
    "# binary AND to obtain 8 bits representing blue\n",
    "b = (n & 0xFF)\n",
    "b"
   ]
  },
  {
   "cell_type": "markdown",
   "id": "8602ae1c",
   "metadata": {},
   "source": [
    "Use getrgb() to extract the rgb-tuple of a color:"
   ]
  },
  {
   "cell_type": "code",
   "execution_count": 30,
   "id": "5e7ddda5",
   "metadata": {},
   "outputs": [],
   "source": [
    "from PIL import Image, ImageColor"
   ]
  },
  {
   "cell_type": "code",
   "execution_count": 31,
   "id": "29063b61",
   "metadata": {},
   "outputs": [
    {
     "data": {
      "text/plain": [
       "(0, 0, 255)"
      ]
     },
     "execution_count": 31,
     "metadata": {},
     "output_type": "execute_result"
    }
   ],
   "source": [
    "ImageColor.getrgb(\"blue\") # for color blue "
   ]
  },
  {
   "cell_type": "markdown",
   "id": "60f88272",
   "metadata": {},
   "source": [
    "## Unicode\n",
    "\n",
    "is a universally accepted character coding for displaying the written text.\n",
    "\n",
    "In Python, strings are represented as arrays of Unicode.\n",
    "\n",
    "To reveal the ordinal values for a text, use ord() on each of the characters:"
   ]
  },
  {
   "cell_type": "code",
   "execution_count": 32,
   "id": "47f1c383",
   "metadata": {},
   "outputs": [
    {
     "data": {
      "text/plain": [
       "[75, 89, 82, 65]"
      ]
     },
     "execution_count": 32,
     "metadata": {},
     "output_type": "execute_result"
    }
   ],
   "source": [
    "[ord(c) for c in \"KYRA\"]"
   ]
  },
  {
   "cell_type": "markdown",
   "id": "4254427d",
   "metadata": {},
   "source": [
    "Use chr(integer) to get the Unicode characters (ASCII codes):"
   ]
  },
  {
   "cell_type": "code",
   "execution_count": 33,
   "id": "82757001",
   "metadata": {},
   "outputs": [
    {
     "name": "stdout",
     "output_type": "stream",
     "text": [
      "K Y R A\n"
     ]
    }
   ],
   "source": [
    "print(\n",
    "    chr(75),\n",
    "    chr(89),\n",
    "    chr(82),\n",
    "    chr(65)\n",
    ")"
   ]
  }
 ],
 "metadata": {
  "kernelspec": {
   "display_name": "Python 3 (ipykernel)",
   "language": "python",
   "name": "python3"
  },
  "language_info": {
   "codemirror_mode": {
    "name": "ipython",
    "version": 3
   },
   "file_extension": ".py",
   "mimetype": "text/x-python",
   "name": "python",
   "nbconvert_exporter": "python",
   "pygments_lexer": "ipython3",
   "version": "3.9.12"
  }
 },
 "nbformat": 4,
 "nbformat_minor": 5
}
